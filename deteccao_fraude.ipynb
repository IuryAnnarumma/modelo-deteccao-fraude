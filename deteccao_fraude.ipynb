{
 "cells": [
  {
   "cell_type": "markdown",
   "id": "4821e3bf",
   "metadata": {},
   "source": [
    "## Projeto de Modelo de Machine Learning para Detecção de Fraude"
   ]
  },
  {
   "cell_type": "markdown",
   "id": "ddd6b0fc",
   "metadata": {},
   "source": [
    "Para a criação desse modelo, serão utilizados dados da base de dados do Kaggle conhecida como **Fraud Detection Example**. Essa base de dados é uma fração de dados do **PaySim**, um simulador de dados financeiros muito usado para projetos voltados para detecção de fraude."
   ]
  },
  {
   "cell_type": "markdown",
   "id": "a4070b81",
   "metadata": {},
   "source": [
    "### Significado das Colunas"
   ]
  },
  {
   "cell_type": "markdown",
   "id": "cb22f52c",
   "metadata": {},
   "source": [
    "**step** - É uma unidade de tempo no mundo real. A cada \"step\" ou passo, significa 1 hora do tempo real. Ao todo, foram simulados 30 dias.\n",
    "\n",
    "**type** - CASH-IN, CASH-OUT, DEBIT, PAYMENT e TRANSFER.\n",
    "\n",
    "**amount** - Valor da transação em moeda local.\n",
    "\n",
    "**nameOrig** - Cliente que iniciou a transação.\n",
    "\n",
    "**oldbalanceOrg** - Saldo inicial antes da transação.\n",
    "\n",
    "**newbalanceOrig** - Saldo após a transação.\n",
    "\n",
    "**nameDest** - Cliente destinatário da transação.\n",
    "\n",
    "**oldbalanceDest** - Destinatário do saldo inicial antes da transação. Note que não há informações para clientes que começam com M (comerciantes).\n",
    "\n",
    "**newbalanceDest** - Novo destinatário do saldo após a transação. Note que não há informações para clientes que começam com M (comerciantes).\n",
    "\n",
    "**isFraud** - São transações feitas pelos agentes fraudulentos dentro da simulação. Nesse cenário simulado, o comportamento fraudulento dos agentes visa lucrar ao assumir o controle das contas dos clientes e tentar esvaziar os fundos transferindo para outra conta e depois realizando o saque do sistema.\n",
    "\n",
    "**isFlaggedFraud** - O modelo de negócios visa controlar transferências massivas de uma conta para outra e sinaliza tentativas ilegais. Uma tentativa ilegal neste conjunto de dados é uma tentativa de transferir mais de 200.00 em uma única transação."
   ]
  },
  {
   "cell_type": "markdown",
   "id": "3261474c",
   "metadata": {},
   "source": [
    "### Importações"
   ]
  },
  {
   "cell_type": "code",
   "execution_count": 2,
   "id": "dd43d149",
   "metadata": {},
   "outputs": [],
   "source": [
    "import pandas as pd"
   ]
  },
  {
   "cell_type": "markdown",
   "id": "b6b3fced",
   "metadata": {},
   "source": [
    "### Análise/manipulação Inicial"
   ]
  },
  {
   "cell_type": "code",
   "execution_count": 3,
   "id": "62e57777",
   "metadata": {},
   "outputs": [],
   "source": [
    "df = pd.read_csv('fraud_dataset_example.csv')"
   ]
  },
  {
   "cell_type": "code",
   "execution_count": 8,
   "id": "804c60a3",
   "metadata": {},
   "outputs": [],
   "source": [
    "df = df[['isFraud',\n",
    "       'isFlaggedFraud','step', 'type', 'amount', 'nameOrig', 'oldbalanceOrg', 'newbalanceOrig',\n",
    "       'nameDest', 'oldbalanceDest', 'newbalanceDest']]"
   ]
  },
  {
   "cell_type": "code",
   "execution_count": 9,
   "id": "dc56d754",
   "metadata": {},
   "outputs": [
    {
     "data": {
      "text/html": [
       "<div>\n",
       "<style scoped>\n",
       "    .dataframe tbody tr th:only-of-type {\n",
       "        vertical-align: middle;\n",
       "    }\n",
       "\n",
       "    .dataframe tbody tr th {\n",
       "        vertical-align: top;\n",
       "    }\n",
       "\n",
       "    .dataframe thead th {\n",
       "        text-align: right;\n",
       "    }\n",
       "</style>\n",
       "<table border=\"1\" class=\"dataframe\">\n",
       "  <thead>\n",
       "    <tr style=\"text-align: right;\">\n",
       "      <th></th>\n",
       "      <th>isFraud</th>\n",
       "      <th>isFlaggedFraud</th>\n",
       "      <th>step</th>\n",
       "      <th>type</th>\n",
       "      <th>amount</th>\n",
       "      <th>nameOrig</th>\n",
       "      <th>oldbalanceOrg</th>\n",
       "      <th>newbalanceOrig</th>\n",
       "      <th>nameDest</th>\n",
       "      <th>oldbalanceDest</th>\n",
       "      <th>newbalanceDest</th>\n",
       "    </tr>\n",
       "  </thead>\n",
       "  <tbody>\n",
       "    <tr>\n",
       "      <th>0</th>\n",
       "      <td>0</td>\n",
       "      <td>0</td>\n",
       "      <td>1</td>\n",
       "      <td>PAYMENT</td>\n",
       "      <td>9839.64</td>\n",
       "      <td>C1231006815</td>\n",
       "      <td>170136.0</td>\n",
       "      <td>160296.36</td>\n",
       "      <td>M1979787155</td>\n",
       "      <td>0.0</td>\n",
       "      <td>0.0</td>\n",
       "    </tr>\n",
       "    <tr>\n",
       "      <th>1</th>\n",
       "      <td>0</td>\n",
       "      <td>0</td>\n",
       "      <td>1</td>\n",
       "      <td>PAYMENT</td>\n",
       "      <td>1864.28</td>\n",
       "      <td>C1666544295</td>\n",
       "      <td>21249.0</td>\n",
       "      <td>19384.72</td>\n",
       "      <td>M2044282225</td>\n",
       "      <td>0.0</td>\n",
       "      <td>0.0</td>\n",
       "    </tr>\n",
       "    <tr>\n",
       "      <th>2</th>\n",
       "      <td>1</td>\n",
       "      <td>0</td>\n",
       "      <td>1</td>\n",
       "      <td>TRANSFER</td>\n",
       "      <td>181.00</td>\n",
       "      <td>C1305486145</td>\n",
       "      <td>181.0</td>\n",
       "      <td>0.00</td>\n",
       "      <td>C553264065</td>\n",
       "      <td>0.0</td>\n",
       "      <td>0.0</td>\n",
       "    </tr>\n",
       "    <tr>\n",
       "      <th>3</th>\n",
       "      <td>1</td>\n",
       "      <td>0</td>\n",
       "      <td>1</td>\n",
       "      <td>CASH_OUT</td>\n",
       "      <td>181.00</td>\n",
       "      <td>C840083671</td>\n",
       "      <td>181.0</td>\n",
       "      <td>0.00</td>\n",
       "      <td>C38997010</td>\n",
       "      <td>21182.0</td>\n",
       "      <td>0.0</td>\n",
       "    </tr>\n",
       "    <tr>\n",
       "      <th>4</th>\n",
       "      <td>0</td>\n",
       "      <td>0</td>\n",
       "      <td>1</td>\n",
       "      <td>PAYMENT</td>\n",
       "      <td>11668.14</td>\n",
       "      <td>C2048537720</td>\n",
       "      <td>41554.0</td>\n",
       "      <td>29885.86</td>\n",
       "      <td>M1230701703</td>\n",
       "      <td>0.0</td>\n",
       "      <td>0.0</td>\n",
       "    </tr>\n",
       "  </tbody>\n",
       "</table>\n",
       "</div>"
      ],
      "text/plain": [
       "   isFraud  isFlaggedFraud  step      type    amount     nameOrig  \\\n",
       "0        0               0     1   PAYMENT   9839.64  C1231006815   \n",
       "1        0               0     1   PAYMENT   1864.28  C1666544295   \n",
       "2        1               0     1  TRANSFER    181.00  C1305486145   \n",
       "3        1               0     1  CASH_OUT    181.00   C840083671   \n",
       "4        0               0     1   PAYMENT  11668.14  C2048537720   \n",
       "\n",
       "   oldbalanceOrg  newbalanceOrig     nameDest  oldbalanceDest  newbalanceDest  \n",
       "0       170136.0       160296.36  M1979787155             0.0             0.0  \n",
       "1        21249.0        19384.72  M2044282225             0.0             0.0  \n",
       "2          181.0            0.00   C553264065             0.0             0.0  \n",
       "3          181.0            0.00    C38997010         21182.0             0.0  \n",
       "4        41554.0        29885.86  M1230701703             0.0             0.0  "
      ]
     },
     "execution_count": 9,
     "metadata": {},
     "output_type": "execute_result"
    }
   ],
   "source": [
    "df.head()"
   ]
  },
  {
   "cell_type": "code",
   "execution_count": 10,
   "id": "924717c1",
   "metadata": {},
   "outputs": [],
   "source": [
    "colunas = {\n",
    "    'isFraud': 'fraude',\n",
    "    'isFlaggedFraud': 'grande_fraude',\n",
    "    'step': 'tempo', \n",
    "    'type': 'tipo', \n",
    "    'amount': 'valor', \n",
    "    'nameOrig': 'cliente_org', \n",
    "    'oldbalanceOrg': 'saldo_inicial_cliente_org', \n",
    "    'newbalanceOrig': 'saldo_novo_cliente_org',\n",
    "    'nameDest': 'cliente_dest', \n",
    "    'oldbalanceDest': 'saldo_inicial_cliente_dest', \n",
    "    'newbalanceDest': 'saldo_novo_cliente_dest'\n",
    "}"
   ]
  },
  {
   "cell_type": "code",
   "execution_count": 12,
   "id": "c37d774e",
   "metadata": {},
   "outputs": [],
   "source": [
    "df = df.rename(columns = colunas)"
   ]
  },
  {
   "cell_type": "code",
   "execution_count": 16,
   "id": "15ca98f5",
   "metadata": {},
   "outputs": [
    {
     "data": {
      "text/html": [
       "<div>\n",
       "<style scoped>\n",
       "    .dataframe tbody tr th:only-of-type {\n",
       "        vertical-align: middle;\n",
       "    }\n",
       "\n",
       "    .dataframe tbody tr th {\n",
       "        vertical-align: top;\n",
       "    }\n",
       "\n",
       "    .dataframe thead th {\n",
       "        text-align: right;\n",
       "    }\n",
       "</style>\n",
       "<table border=\"1\" class=\"dataframe\">\n",
       "  <thead>\n",
       "    <tr style=\"text-align: right;\">\n",
       "      <th></th>\n",
       "      <th>count</th>\n",
       "      <th>mean</th>\n",
       "      <th>std</th>\n",
       "      <th>min</th>\n",
       "      <th>25%</th>\n",
       "      <th>50%</th>\n",
       "      <th>75%</th>\n",
       "      <th>max</th>\n",
       "    </tr>\n",
       "  </thead>\n",
       "  <tbody>\n",
       "    <tr>\n",
       "      <th>fraude</th>\n",
       "      <td>101613.0</td>\n",
       "      <td>1.141586e-03</td>\n",
       "      <td>3.376824e-02</td>\n",
       "      <td>0.00</td>\n",
       "      <td>0.00</td>\n",
       "      <td>0.00</td>\n",
       "      <td>0.00</td>\n",
       "      <td>1.00</td>\n",
       "    </tr>\n",
       "    <tr>\n",
       "      <th>grande_fraude</th>\n",
       "      <td>101613.0</td>\n",
       "      <td>0.000000e+00</td>\n",
       "      <td>0.000000e+00</td>\n",
       "      <td>0.00</td>\n",
       "      <td>0.00</td>\n",
       "      <td>0.00</td>\n",
       "      <td>0.00</td>\n",
       "      <td>0.00</td>\n",
       "    </tr>\n",
       "    <tr>\n",
       "      <th>tempo</th>\n",
       "      <td>101613.0</td>\n",
       "      <td>8.523457e+00</td>\n",
       "      <td>1.820681e+00</td>\n",
       "      <td>1.00</td>\n",
       "      <td>8.00</td>\n",
       "      <td>9.00</td>\n",
       "      <td>10.00</td>\n",
       "      <td>10.00</td>\n",
       "    </tr>\n",
       "    <tr>\n",
       "      <th>valor</th>\n",
       "      <td>101613.0</td>\n",
       "      <td>1.740901e+05</td>\n",
       "      <td>3.450199e+05</td>\n",
       "      <td>0.32</td>\n",
       "      <td>10016.59</td>\n",
       "      <td>53385.41</td>\n",
       "      <td>212498.40</td>\n",
       "      <td>10000000.00</td>\n",
       "    </tr>\n",
       "    <tr>\n",
       "      <th>saldo_inicial_cliente_org</th>\n",
       "      <td>101613.0</td>\n",
       "      <td>9.071753e+05</td>\n",
       "      <td>2.829575e+06</td>\n",
       "      <td>0.00</td>\n",
       "      <td>0.00</td>\n",
       "      <td>20190.47</td>\n",
       "      <td>194715.00</td>\n",
       "      <td>38939424.03</td>\n",
       "    </tr>\n",
       "    <tr>\n",
       "      <th>saldo_novo_cliente_org</th>\n",
       "      <td>101613.0</td>\n",
       "      <td>9.234992e+05</td>\n",
       "      <td>2.867319e+06</td>\n",
       "      <td>0.00</td>\n",
       "      <td>0.00</td>\n",
       "      <td>0.00</td>\n",
       "      <td>219217.76</td>\n",
       "      <td>38946233.02</td>\n",
       "    </tr>\n",
       "    <tr>\n",
       "      <th>saldo_inicial_cliente_dest</th>\n",
       "      <td>101613.0</td>\n",
       "      <td>8.810428e+05</td>\n",
       "      <td>2.399949e+06</td>\n",
       "      <td>0.00</td>\n",
       "      <td>0.00</td>\n",
       "      <td>21058.00</td>\n",
       "      <td>591921.70</td>\n",
       "      <td>34008736.98</td>\n",
       "    </tr>\n",
       "    <tr>\n",
       "      <th>saldo_novo_cliente_dest</th>\n",
       "      <td>101613.0</td>\n",
       "      <td>1.183998e+06</td>\n",
       "      <td>2.797761e+06</td>\n",
       "      <td>0.00</td>\n",
       "      <td>0.00</td>\n",
       "      <td>51783.43</td>\n",
       "      <td>1063121.64</td>\n",
       "      <td>38946233.02</td>\n",
       "    </tr>\n",
       "  </tbody>\n",
       "</table>\n",
       "</div>"
      ],
      "text/plain": [
       "                               count          mean           std   min  \\\n",
       "fraude                      101613.0  1.141586e-03  3.376824e-02  0.00   \n",
       "grande_fraude               101613.0  0.000000e+00  0.000000e+00  0.00   \n",
       "tempo                       101613.0  8.523457e+00  1.820681e+00  1.00   \n",
       "valor                       101613.0  1.740901e+05  3.450199e+05  0.32   \n",
       "saldo_inicial_cliente_org   101613.0  9.071753e+05  2.829575e+06  0.00   \n",
       "saldo_novo_cliente_org      101613.0  9.234992e+05  2.867319e+06  0.00   \n",
       "saldo_inicial_cliente_dest  101613.0  8.810428e+05  2.399949e+06  0.00   \n",
       "saldo_novo_cliente_dest     101613.0  1.183998e+06  2.797761e+06  0.00   \n",
       "\n",
       "                                 25%       50%         75%          max  \n",
       "fraude                          0.00      0.00        0.00         1.00  \n",
       "grande_fraude                   0.00      0.00        0.00         0.00  \n",
       "tempo                           8.00      9.00       10.00        10.00  \n",
       "valor                       10016.59  53385.41   212498.40  10000000.00  \n",
       "saldo_inicial_cliente_org       0.00  20190.47   194715.00  38939424.03  \n",
       "saldo_novo_cliente_org          0.00      0.00   219217.76  38946233.02  \n",
       "saldo_inicial_cliente_dest      0.00  21058.00   591921.70  34008736.98  \n",
       "saldo_novo_cliente_dest         0.00  51783.43  1063121.64  38946233.02  "
      ]
     },
     "execution_count": 16,
     "metadata": {},
     "output_type": "execute_result"
    }
   ],
   "source": [
    "df.describe().T #Sem NaN"
   ]
  },
  {
   "cell_type": "markdown",
   "id": "ccd7ca51",
   "metadata": {},
   "source": [
    "Verificando a variável explicativa"
   ]
  },
  {
   "cell_type": "code",
   "execution_count": 19,
   "id": "9f071006",
   "metadata": {},
   "outputs": [
    {
     "data": {
      "text/plain": [
       "fraude\n",
       "0    101497\n",
       "1       116\n",
       "Name: tempo, dtype: int64"
      ]
     },
     "execution_count": 19,
     "metadata": {},
     "output_type": "execute_result"
    }
   ],
   "source": [
    "df.groupby('fraude').tempo.count()"
   ]
  }
 ],
 "metadata": {
  "kernelspec": {
   "display_name": ".venv",
   "language": "python",
   "name": "python3"
  },
  "language_info": {
   "codemirror_mode": {
    "name": "ipython",
    "version": 3
   },
   "file_extension": ".py",
   "mimetype": "text/x-python",
   "name": "python",
   "nbconvert_exporter": "python",
   "pygments_lexer": "ipython3",
   "version": "3.13.5"
  }
 },
 "nbformat": 4,
 "nbformat_minor": 5
}
