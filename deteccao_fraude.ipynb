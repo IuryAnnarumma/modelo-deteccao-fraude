{
 "cells": [
  {
   "cell_type": "markdown",
   "id": "4821e3bf",
   "metadata": {},
   "source": [
    "## Projeto de Modelo de Machine Learning para Detecção de Fraude"
   ]
  },
  {
   "cell_type": "markdown",
   "id": "ddd6b0fc",
   "metadata": {},
   "source": [
    "Para a criação desse modelo, serão utilizados dados da base de dados do Kaggle conhecida como **Fraud Detection Example**. Essa base de dados é uma fração de dados do **PaySim**, um simulador de dados financeiros muito usado para projetos voltados para detecção de fraude."
   ]
  },
  {
   "cell_type": "markdown",
   "id": "a4070b81",
   "metadata": {},
   "source": [
    "### Significado das Colunas"
   ]
  },
  {
   "cell_type": "markdown",
   "id": "cb22f52c",
   "metadata": {},
   "source": [
    "**step** - É uma unidade de tempo no mundo real. A cada \"step\" ou passo, significa 1 hora do tempo real. Ao todo, foram simulados 30 dias.\n",
    "\n",
    "**type** - CASH-IN, CASH-OUT, DEBIT, PAYMENT e TRANSFER.\n",
    "\n",
    "**amount** - Valor da transação em moeda local.\n",
    "\n",
    "**nameOrig** - Cliente que iniciou a transação.\n",
    "\n",
    "**oldbalanceOrg** - Saldo inicial antes da transação.\n",
    "\n",
    "**newbalanceOrig** - Saldo após a transação.\n",
    "\n",
    "**nameDest** - Cliente destinatário da transação.\n",
    "\n",
    "**oldbalanceDest** - Destinatário do saldo inicial antes da transação. Note que não há informações para clientes que começam com M (comerciantes).\n",
    "\n",
    "**newbalanceDest** - Novo destinatário do saldo após a transação. Note que não há informações para clientes que começam com M (comerciantes).\n",
    "\n",
    "**isFraud** - São transações feitas pelos agentes fraudulentos dentro da simulação. Nesse cenário simulado, o comportamento fraudulento dos agentes visa lucrar ao assumir o controle das contas dos clientes e tentar esvaziar os fundos transferindo para outra conta e depois realizando o saque do sistema.\n",
    "\n",
    "**isFlaggedFraud** - O modelo de negócios visa controlar transferências massivas de uma conta para outra e sinaliza tentativas ilegais. Uma tentativa ilegal neste conjunto de dados é uma tentativa de transferir mais de 200.00 em uma única transação."
   ]
  },
  {
   "cell_type": "markdown",
   "id": "3261474c",
   "metadata": {},
   "source": [
    "### Importações"
   ]
  },
  {
   "cell_type": "code",
   "execution_count": 1,
   "id": "dd43d149",
   "metadata": {},
   "outputs": [],
   "source": [
    "import pandas as pd\n",
    "import numpy as np\n",
    "import matplotlib.pyplot as plt\n",
    "import seaborn as sns"
   ]
  },
  {
   "cell_type": "markdown",
   "id": "b6b3fced",
   "metadata": {},
   "source": [
    "### Análise/manipulação Inicial"
   ]
  },
  {
   "cell_type": "code",
   "execution_count": 2,
   "id": "62e57777",
   "metadata": {},
   "outputs": [],
   "source": [
    "df = pd.read_csv('fraud_dataset_example.csv')"
   ]
  },
  {
   "cell_type": "code",
   "execution_count": 3,
   "id": "804c60a3",
   "metadata": {},
   "outputs": [],
   "source": [
    "df = df[['isFraud',\n",
    "       'isFlaggedFraud','step', 'type', 'amount', 'nameOrig', 'oldbalanceOrg', 'newbalanceOrig',\n",
    "       'nameDest', 'oldbalanceDest', 'newbalanceDest']]"
   ]
  },
  {
   "cell_type": "code",
   "execution_count": 4,
   "id": "dc56d754",
   "metadata": {},
   "outputs": [
    {
     "data": {
      "text/html": [
       "<div>\n",
       "<style scoped>\n",
       "    .dataframe tbody tr th:only-of-type {\n",
       "        vertical-align: middle;\n",
       "    }\n",
       "\n",
       "    .dataframe tbody tr th {\n",
       "        vertical-align: top;\n",
       "    }\n",
       "\n",
       "    .dataframe thead th {\n",
       "        text-align: right;\n",
       "    }\n",
       "</style>\n",
       "<table border=\"1\" class=\"dataframe\">\n",
       "  <thead>\n",
       "    <tr style=\"text-align: right;\">\n",
       "      <th></th>\n",
       "      <th>isFraud</th>\n",
       "      <th>isFlaggedFraud</th>\n",
       "      <th>step</th>\n",
       "      <th>type</th>\n",
       "      <th>amount</th>\n",
       "      <th>nameOrig</th>\n",
       "      <th>oldbalanceOrg</th>\n",
       "      <th>newbalanceOrig</th>\n",
       "      <th>nameDest</th>\n",
       "      <th>oldbalanceDest</th>\n",
       "      <th>newbalanceDest</th>\n",
       "    </tr>\n",
       "  </thead>\n",
       "  <tbody>\n",
       "    <tr>\n",
       "      <th>0</th>\n",
       "      <td>0</td>\n",
       "      <td>0</td>\n",
       "      <td>1</td>\n",
       "      <td>PAYMENT</td>\n",
       "      <td>9839.64</td>\n",
       "      <td>C1231006815</td>\n",
       "      <td>170136.0</td>\n",
       "      <td>160296.36</td>\n",
       "      <td>M1979787155</td>\n",
       "      <td>0.0</td>\n",
       "      <td>0.0</td>\n",
       "    </tr>\n",
       "    <tr>\n",
       "      <th>1</th>\n",
       "      <td>0</td>\n",
       "      <td>0</td>\n",
       "      <td>1</td>\n",
       "      <td>PAYMENT</td>\n",
       "      <td>1864.28</td>\n",
       "      <td>C1666544295</td>\n",
       "      <td>21249.0</td>\n",
       "      <td>19384.72</td>\n",
       "      <td>M2044282225</td>\n",
       "      <td>0.0</td>\n",
       "      <td>0.0</td>\n",
       "    </tr>\n",
       "    <tr>\n",
       "      <th>2</th>\n",
       "      <td>1</td>\n",
       "      <td>0</td>\n",
       "      <td>1</td>\n",
       "      <td>TRANSFER</td>\n",
       "      <td>181.00</td>\n",
       "      <td>C1305486145</td>\n",
       "      <td>181.0</td>\n",
       "      <td>0.00</td>\n",
       "      <td>C553264065</td>\n",
       "      <td>0.0</td>\n",
       "      <td>0.0</td>\n",
       "    </tr>\n",
       "    <tr>\n",
       "      <th>3</th>\n",
       "      <td>1</td>\n",
       "      <td>0</td>\n",
       "      <td>1</td>\n",
       "      <td>CASH_OUT</td>\n",
       "      <td>181.00</td>\n",
       "      <td>C840083671</td>\n",
       "      <td>181.0</td>\n",
       "      <td>0.00</td>\n",
       "      <td>C38997010</td>\n",
       "      <td>21182.0</td>\n",
       "      <td>0.0</td>\n",
       "    </tr>\n",
       "    <tr>\n",
       "      <th>4</th>\n",
       "      <td>0</td>\n",
       "      <td>0</td>\n",
       "      <td>1</td>\n",
       "      <td>PAYMENT</td>\n",
       "      <td>11668.14</td>\n",
       "      <td>C2048537720</td>\n",
       "      <td>41554.0</td>\n",
       "      <td>29885.86</td>\n",
       "      <td>M1230701703</td>\n",
       "      <td>0.0</td>\n",
       "      <td>0.0</td>\n",
       "    </tr>\n",
       "  </tbody>\n",
       "</table>\n",
       "</div>"
      ],
      "text/plain": [
       "   isFraud  isFlaggedFraud  step      type    amount     nameOrig  \\\n",
       "0        0               0     1   PAYMENT   9839.64  C1231006815   \n",
       "1        0               0     1   PAYMENT   1864.28  C1666544295   \n",
       "2        1               0     1  TRANSFER    181.00  C1305486145   \n",
       "3        1               0     1  CASH_OUT    181.00   C840083671   \n",
       "4        0               0     1   PAYMENT  11668.14  C2048537720   \n",
       "\n",
       "   oldbalanceOrg  newbalanceOrig     nameDest  oldbalanceDest  newbalanceDest  \n",
       "0       170136.0       160296.36  M1979787155             0.0             0.0  \n",
       "1        21249.0        19384.72  M2044282225             0.0             0.0  \n",
       "2          181.0            0.00   C553264065             0.0             0.0  \n",
       "3          181.0            0.00    C38997010         21182.0             0.0  \n",
       "4        41554.0        29885.86  M1230701703             0.0             0.0  "
      ]
     },
     "execution_count": 4,
     "metadata": {},
     "output_type": "execute_result"
    }
   ],
   "source": [
    "df.head()"
   ]
  },
  {
   "cell_type": "code",
   "execution_count": 5,
   "id": "924717c1",
   "metadata": {},
   "outputs": [],
   "source": [
    "colunas = {\n",
    "    'isFraud': 'fraude',\n",
    "    'isFlaggedFraud': 'grande_fraude',\n",
    "    'step': 'tempo', \n",
    "    'type': 'tipo', \n",
    "    'amount': 'valor', \n",
    "    'nameOrig': 'cliente_org', \n",
    "    'oldbalanceOrg': 'saldo_inicial_cliente_org', \n",
    "    'newbalanceOrig': 'saldo_novo_cliente_org',\n",
    "    'nameDest': 'cliente_dest', \n",
    "    'oldbalanceDest': 'saldo_inicial_cliente_dest', \n",
    "    'newbalanceDest': 'saldo_novo_cliente_dest'\n",
    "}"
   ]
  },
  {
   "cell_type": "code",
   "execution_count": 6,
   "id": "c37d774e",
   "metadata": {},
   "outputs": [],
   "source": [
    "df = df.rename(columns = colunas)"
   ]
  },
  {
   "cell_type": "code",
   "execution_count": 7,
   "id": "15ca98f5",
   "metadata": {},
   "outputs": [
    {
     "data": {
      "text/html": [
       "<div>\n",
       "<style scoped>\n",
       "    .dataframe tbody tr th:only-of-type {\n",
       "        vertical-align: middle;\n",
       "    }\n",
       "\n",
       "    .dataframe tbody tr th {\n",
       "        vertical-align: top;\n",
       "    }\n",
       "\n",
       "    .dataframe thead th {\n",
       "        text-align: right;\n",
       "    }\n",
       "</style>\n",
       "<table border=\"1\" class=\"dataframe\">\n",
       "  <thead>\n",
       "    <tr style=\"text-align: right;\">\n",
       "      <th></th>\n",
       "      <th>count</th>\n",
       "      <th>mean</th>\n",
       "      <th>std</th>\n",
       "      <th>min</th>\n",
       "      <th>25%</th>\n",
       "      <th>50%</th>\n",
       "      <th>75%</th>\n",
       "      <th>max</th>\n",
       "    </tr>\n",
       "  </thead>\n",
       "  <tbody>\n",
       "    <tr>\n",
       "      <th>fraude</th>\n",
       "      <td>101613.0</td>\n",
       "      <td>1.141586e-03</td>\n",
       "      <td>3.376824e-02</td>\n",
       "      <td>0.00</td>\n",
       "      <td>0.00</td>\n",
       "      <td>0.00</td>\n",
       "      <td>0.00</td>\n",
       "      <td>1.00</td>\n",
       "    </tr>\n",
       "    <tr>\n",
       "      <th>grande_fraude</th>\n",
       "      <td>101613.0</td>\n",
       "      <td>0.000000e+00</td>\n",
       "      <td>0.000000e+00</td>\n",
       "      <td>0.00</td>\n",
       "      <td>0.00</td>\n",
       "      <td>0.00</td>\n",
       "      <td>0.00</td>\n",
       "      <td>0.00</td>\n",
       "    </tr>\n",
       "    <tr>\n",
       "      <th>tempo</th>\n",
       "      <td>101613.0</td>\n",
       "      <td>8.523457e+00</td>\n",
       "      <td>1.820681e+00</td>\n",
       "      <td>1.00</td>\n",
       "      <td>8.00</td>\n",
       "      <td>9.00</td>\n",
       "      <td>10.00</td>\n",
       "      <td>10.00</td>\n",
       "    </tr>\n",
       "    <tr>\n",
       "      <th>valor</th>\n",
       "      <td>101613.0</td>\n",
       "      <td>1.740901e+05</td>\n",
       "      <td>3.450199e+05</td>\n",
       "      <td>0.32</td>\n",
       "      <td>10016.59</td>\n",
       "      <td>53385.41</td>\n",
       "      <td>212498.40</td>\n",
       "      <td>10000000.00</td>\n",
       "    </tr>\n",
       "    <tr>\n",
       "      <th>saldo_inicial_cliente_org</th>\n",
       "      <td>101613.0</td>\n",
       "      <td>9.071753e+05</td>\n",
       "      <td>2.829575e+06</td>\n",
       "      <td>0.00</td>\n",
       "      <td>0.00</td>\n",
       "      <td>20190.47</td>\n",
       "      <td>194715.00</td>\n",
       "      <td>38939424.03</td>\n",
       "    </tr>\n",
       "    <tr>\n",
       "      <th>saldo_novo_cliente_org</th>\n",
       "      <td>101613.0</td>\n",
       "      <td>9.234992e+05</td>\n",
       "      <td>2.867319e+06</td>\n",
       "      <td>0.00</td>\n",
       "      <td>0.00</td>\n",
       "      <td>0.00</td>\n",
       "      <td>219217.76</td>\n",
       "      <td>38946233.02</td>\n",
       "    </tr>\n",
       "    <tr>\n",
       "      <th>saldo_inicial_cliente_dest</th>\n",
       "      <td>101613.0</td>\n",
       "      <td>8.810428e+05</td>\n",
       "      <td>2.399949e+06</td>\n",
       "      <td>0.00</td>\n",
       "      <td>0.00</td>\n",
       "      <td>21058.00</td>\n",
       "      <td>591921.70</td>\n",
       "      <td>34008736.98</td>\n",
       "    </tr>\n",
       "    <tr>\n",
       "      <th>saldo_novo_cliente_dest</th>\n",
       "      <td>101613.0</td>\n",
       "      <td>1.183998e+06</td>\n",
       "      <td>2.797761e+06</td>\n",
       "      <td>0.00</td>\n",
       "      <td>0.00</td>\n",
       "      <td>51783.43</td>\n",
       "      <td>1063121.64</td>\n",
       "      <td>38946233.02</td>\n",
       "    </tr>\n",
       "  </tbody>\n",
       "</table>\n",
       "</div>"
      ],
      "text/plain": [
       "                               count          mean           std   min  \\\n",
       "fraude                      101613.0  1.141586e-03  3.376824e-02  0.00   \n",
       "grande_fraude               101613.0  0.000000e+00  0.000000e+00  0.00   \n",
       "tempo                       101613.0  8.523457e+00  1.820681e+00  1.00   \n",
       "valor                       101613.0  1.740901e+05  3.450199e+05  0.32   \n",
       "saldo_inicial_cliente_org   101613.0  9.071753e+05  2.829575e+06  0.00   \n",
       "saldo_novo_cliente_org      101613.0  9.234992e+05  2.867319e+06  0.00   \n",
       "saldo_inicial_cliente_dest  101613.0  8.810428e+05  2.399949e+06  0.00   \n",
       "saldo_novo_cliente_dest     101613.0  1.183998e+06  2.797761e+06  0.00   \n",
       "\n",
       "                                 25%       50%         75%          max  \n",
       "fraude                          0.00      0.00        0.00         1.00  \n",
       "grande_fraude                   0.00      0.00        0.00         0.00  \n",
       "tempo                           8.00      9.00       10.00        10.00  \n",
       "valor                       10016.59  53385.41   212498.40  10000000.00  \n",
       "saldo_inicial_cliente_org       0.00  20190.47   194715.00  38939424.03  \n",
       "saldo_novo_cliente_org          0.00      0.00   219217.76  38946233.02  \n",
       "saldo_inicial_cliente_dest      0.00  21058.00   591921.70  34008736.98  \n",
       "saldo_novo_cliente_dest         0.00  51783.43  1063121.64  38946233.02  "
      ]
     },
     "execution_count": 7,
     "metadata": {},
     "output_type": "execute_result"
    }
   ],
   "source": [
    "df.describe().T #Sem NaN "
   ]
  },
  {
   "cell_type": "markdown",
   "id": "ccd7ca51",
   "metadata": {},
   "source": [
    "Verificando a variável explicativa"
   ]
  },
  {
   "cell_type": "code",
   "execution_count": 8,
   "id": "9f071006",
   "metadata": {},
   "outputs": [
    {
     "data": {
      "text/plain": [
       "fraude\n",
       "0    101497\n",
       "1       116\n",
       "Name: tempo, dtype: int64"
      ]
     },
     "execution_count": 8,
     "metadata": {},
     "output_type": "execute_result"
    }
   ],
   "source": [
    "df.groupby('fraude').tempo.count()"
   ]
  },
  {
   "cell_type": "markdown",
   "id": "2c73cb0b",
   "metadata": {},
   "source": [
    "### Sumarização dos Dados"
   ]
  },
  {
   "cell_type": "code",
   "execution_count": 60,
   "id": "ac5e703d",
   "metadata": {},
   "outputs": [],
   "source": [
    "cont_fraude = df['fraude'].value_counts()\n",
    "proporcao_fraude = round(df['fraude'].value_counts(normalize=True) * 100, 2)\n",
    "\n",
    "cont_grande_fraude = df['grande_fraude'].value_counts()\n",
    "proporcao_grande_fraude = round(df['grande_fraude'].value_counts(normalize=True) * 100, 2)\n",
    "\n",
    "cont_tipo = df['tipo'].value_counts()\n",
    "proporcao_tipo = round(df['tipo'].value_counts(normalize=True) * 100, 2)\n",
    "\n",
    "cont_grande_fraude = df['grande_fraude'].value_counts()\n",
    "proporcao_grande_fraude = round(df['grande_fraude'].value_counts(normalize=True) * 100, 2)\n",
    "\n",
    "\n",
    "fraude_por_tipo = df.groupby('tipo')['fraude'].mean() * 100"
   ]
  },
  {
   "cell_type": "markdown",
   "id": "e53ffd6d",
   "metadata": {},
   "source": [
    "Ocorrências de Fraude e Grande Fraude"
   ]
  },
  {
   "cell_type": "code",
   "execution_count": 75,
   "id": "4f237143",
   "metadata": {},
   "outputs": [
    {
     "data": {
      "text/plain": [
       "Text(0.5, 1.0, 'OCORRÊNCIA DE GRANDES FRAUDES')"
      ]
     },
     "execution_count": 75,
     "metadata": {},
     "output_type": "execute_result"
    },
    {
     "data": {
      "image/png": "[encoded data removed]",
      "text/plain": [
       "<Figure size 1000x800 with 2 Axes>"
      ]
     },
     "metadata": {},
     "output_type": "display_data"
    }
   ],
   "source": [
    "# Criação das figuras para os gráficos\n",
    "fig = plt.figure(figsize=(10, 8))\n",
    "fig.suptitle('Distribuições de Fraudes', fontsize=16, fontweight='bold', y=0.99)\n",
    "\n",
    "# Definir layout dos subplots\n",
    "grid = plt.GridSpec(2, 2, hspace=0.8, wspace=0.3)\n",
    "\n",
    "# Disposição dos Gráficos\n",
    "ax1 = fig.add_subplot(grid[0, 0]) # Ocorrências de Fraudes\n",
    "ax2 = fig.add_subplot(grid[0, 1]) # Ocorrências de Grandes Fraudes\n",
    "[sns.despine(ax=ax, top=True, right=True) for ax in [ax1, ax2]]\n",
    "\n",
    "\n",
    "# GRÁFICO 1: Distribuição de Fraude\n",
    "\n",
    "bars1 = ax1.bar(['Não Fraude', 'Fraude'], cont_fraude.values, color=['lightgreen', 'lightcoral'], alpha=0.8, edgecolor='black')\n",
    "ax1.set_title('OCORRÊNCIAS DE FRAUDES', fontsize=11, fontweight='semibold')\n",
    "ax1.tick_params(axis='y', labelsize=8)\n",
    "ax1.set_ylim(0, cont_fraude.max() * 1.2)\n",
    "\n",
    "# Adicionar valores e percentuais\n",
    "for bar, count, perc in zip(bars1, cont_fraude.values, proporcao_fraude.values):\n",
    "    ax1.text(bar.get_x() + bar.get_width()/2, bar.get_height() + (cont_fraude.max() * 0.02),\n",
    "             f'{count:,}\\n({perc:.2f}%)', ha='center', va='bottom', fontsize=9, fontweight='semibold')\n",
    "\n",
    "    \n",
    "# GRÁFICO 2: Distribuição de Grande Fraude\n",
    "\n",
    "# Usar sempre os dois labels, mesmo se um valor for zero\n",
    "labels = ['Sem Grande Fraude', 'Com Grande Fraude']\n",
    "valores = [cont_grande_fraude.get(0, 0), cont_grande_fraude.get(1, 0)]\n",
    "\n",
    "bars2 = ax2.bar(labels, valores, color=['lightblue', 'darkred'], alpha=0.8, edgecolor='black')\n",
    "\n",
    "# Ajustar altura proporcionalmente\n",
    "ax2.set_ylim(0, cont_grande_fraude.max() * 1.25)\n",
    "\n",
    "# Adicionar valores (se for zero, mostra \"0\")\n",
    "for i, (bar, count) in enumerate(zip(bars2, valores)):\n",
    "    perc = (count / sum(valores)) * 100 if sum(valores) > 0 else 0\n",
    "    if count > 0:  # Só mostra texto se houver valor\n",
    "        ax2.text(bar.get_x() + bar.get_width()/2, bar.get_height() + (cont_grande_fraude * 0.05), f'{count:,}\\n({perc:.2f}%)', ha='center', va='bottom', fontsize=9, fontweight='bold')\n",
    "    else:  # Para valor zero, mostra mensagem discreta\n",
    "        ax2.text(bar.get_x() + bar.get_width()/2, cont_grande_fraude * 0.05, 'Sem ocorrências', ha='center', va='bottom', fontsize=8, color='gray', style='italic')\n",
    "\n",
    "ax2.set_title('OCORRÊNCIA DE GRANDES FRAUDES', fontsize=11, fontweight='bold')\n",
    "\n",
    "\n"
   ]
  },
  {
   "cell_type": "markdown",
   "id": "6c2b9072",
   "metadata": {},
   "source": [
    "Distribuição por Tipo de Transação e sua Porcentagem de ocorrências de Fraudes"
   ]
  },
  {
   "cell_type": "code",
   "execution_count": 76,
   "id": "6c90bdca",
   "metadata": {},
   "outputs": [
    {
     "data": {
      "image/png": "[encoded data removed]",
      "text/plain": [
       "<Figure size 1000x800 with 2 Axes>"
      ]
     },
     "metadata": {},
     "output_type": "display_data"
    }
   ],
   "source": [
    "# Criação das figuras para os gráficos\n",
    "fig = plt.figure(figsize=(10, 8))\n",
    "fig.suptitle('Distribuições de Tipos de Transações', fontsize=16, fontweight='bold', y=0.99)\n",
    "\n",
    "\n",
    "# Definir layout dos subplots\n",
    "grid = plt.GridSpec(2, 2, hspace=0.8, wspace=0.3)\n",
    "\n",
    "# Disposição dos Gráficos\n",
    "ax3 = fig.add_subplot(grid[0, 0]) # Tipos de Transação\n",
    "ax4 = fig.add_subplot(grid[0, 1]) # Distribuição de Valores \n",
    "[sns.despine(ax=ax, top=True, right=True) for ax in [ax3, ax4]]\n",
    "\n",
    "\n",
    "# GRÁFICO 3: Tipos de Transação\n",
    "\n",
    "bars3 = ax3.bar(cont_tipo.index, cont_tipo.values, color=sns.color_palette(\"husl\", len(cont_tipo)), alpha=0.8, edgecolor='black')\n",
    "ax3.set_title('DISTRIBUIÇÃO POR TIPO DE TRANSAÇÃO', fontsize=12, fontweight='semibold')\n",
    "ax3.tick_params(axis='x', rotation=45)\n",
    "ax3.set_ylim(0, cont_tipo.max() * 1.2)\n",
    "\n",
    "for bar, count, perc in zip(bars3, cont_tipo.values, proporcao_tipo.values):\n",
    "    ax3.text(bar.get_x() + bar.get_width()/2, bar.get_height() +  300, f'{count:,}\\n({perc:.1f}%)', ha='center', va='bottom', fontsize=9, fontweight='semibold')\n",
    "    \n",
    "\n",
    "# GRÁFICO 4: Fraude por Tipo\n",
    "\n",
    "\n",
    "bars4 = ax4.bar(fraude_por_tipo.index, fraude_por_tipo.values, color=['lightcoral' if x > 0 else 'lightblue' for x in fraude_por_tipo.values], alpha=0.8, edgecolor='black')\n",
    "ax4.set_title('PERCENTUAL DE FRAUDE POR TIPO', fontsize=12, fontweight='semibold')\n",
    "ax4.tick_params(axis='x', rotation=45)\n",
    "ax4.axhline(y=0, color='black', linestyle='-', alpha=0.3)\n",
    "ax4.set_ylim(0, fraude_por_tipo.max() * 2)\n",
    "\n",
    "for bar, valor in zip(bars4, fraude_por_tipo.values):\n",
    "    ax4.text(bar.get_x() + bar.get_width()/2, bar.get_height() + 0.1,\n",
    "             f'{valor:.2f}%', ha='center', va='bottom', fontsize=9, fontweight='semibold')\n",
    "    \n",
    "plt.show()"
   ]
  },
  {
   "cell_type": "code",
   "execution_count": null,
   "id": "46d52212",
   "metadata": {},
   "outputs": [
    {
     "ename": "IndexError",
     "evalue": "GridSpec slice would result in no space allocated for subplot",
     "output_type": "error",
     "traceback": [
      "\u001b[31m---------------------------------------------------------------------------\u001b[39m",
      "\u001b[31mIndexError\u001b[39m                                Traceback (most recent call last)",
      "\u001b[36mCell\u001b[39m\u001b[36m \u001b[39m\u001b[32mIn[50]\u001b[39m\u001b[32m, line 2\u001b[39m\n\u001b[32m      1\u001b[39m ax3 = fig.add_subplot(grid[\u001b[32m1\u001b[39m, \u001b[32m0\u001b[39m:\u001b[32m2\u001b[39m]) \u001b[38;5;66;03m# Tipos de Transação\u001b[39;00m\n\u001b[32m----> \u001b[39m\u001b[32m2\u001b[39m ax4 = fig.add_subplot(\u001b[43mgrid\u001b[49m\u001b[43m[\u001b[49m\u001b[32;43m1\u001b[39;49m\u001b[43m,\u001b[49m\u001b[43m \u001b[49m\u001b[32;43m2\u001b[39;49m\u001b[43m:\u001b[49m\u001b[43m]\u001b[49m) \u001b[38;5;66;03m# Distribuição de Valores\u001b[39;00m\n\u001b[32m      3\u001b[39m ax5 = fig.add_subplot(grid[\u001b[32m2\u001b[39m, :]) \u001b[38;5;66;03m# Fraude por Tipo\u001b[39;00m\n\u001b[32m      4\u001b[39m ax6 = fig.add_subplot(grid[\u001b[32m3\u001b[39m, :]) \u001b[38;5;66;03m# Matriz de Correlação\u001b[39;00m\n",
      "\u001b[36mFile \u001b[39m\u001b[32mc:\\Users\\IuryAnnarumma\\OneDrive - TI Safe\\Documentos\\Estudo\\Repositorio_local\\modelo-prevencao-fraude\\.venv\\Lib\\site-packages\\matplotlib\\gridspec.py:242\u001b[39m, in \u001b[36mGridSpecBase.__getitem__\u001b[39m\u001b[34m(self, key)\u001b[39m\n\u001b[32m    239\u001b[39m     \u001b[38;5;28;01mexcept\u001b[39;00m \u001b[38;5;167;01mValueError\u001b[39;00m \u001b[38;5;28;01mas\u001b[39;00m err:\n\u001b[32m    240\u001b[39m         \u001b[38;5;28;01mraise\u001b[39;00m \u001b[38;5;167;01mValueError\u001b[39;00m(\u001b[33m\"\u001b[39m\u001b[33mUnrecognized subplot spec\u001b[39m\u001b[33m\"\u001b[39m) \u001b[38;5;28;01mfrom\u001b[39;00m\u001b[38;5;250m \u001b[39m\u001b[34;01merr\u001b[39;00m\n\u001b[32m    241\u001b[39m     num1, num2 = np.ravel_multi_index(\n\u001b[32m--> \u001b[39m\u001b[32m242\u001b[39m         [_normalize(k1, nrows, \u001b[32m0\u001b[39m), \u001b[43m_normalize\u001b[49m\u001b[43m(\u001b[49m\u001b[43mk2\u001b[49m\u001b[43m,\u001b[49m\u001b[43m \u001b[49m\u001b[43mncols\u001b[49m\u001b[43m,\u001b[49m\u001b[43m \u001b[49m\u001b[32;43m1\u001b[39;49m\u001b[43m)\u001b[49m],\n\u001b[32m    243\u001b[39m         (nrows, ncols))\n\u001b[32m    244\u001b[39m \u001b[38;5;28;01melse\u001b[39;00m:  \u001b[38;5;66;03m# Single key\u001b[39;00m\n\u001b[32m    245\u001b[39m     num1, num2 = _normalize(key, nrows * ncols, \u001b[38;5;28;01mNone\u001b[39;00m)\n",
      "\u001b[36mFile \u001b[39m\u001b[32mc:\\Users\\IuryAnnarumma\\OneDrive - TI Safe\\Documentos\\Estudo\\Repositorio_local\\modelo-prevencao-fraude\\.venv\\Lib\\site-packages\\matplotlib\\gridspec.py:222\u001b[39m, in \u001b[36mGridSpecBase.__getitem__.<locals>._normalize\u001b[39m\u001b[34m(key, size, axis)\u001b[39m\n\u001b[32m    220\u001b[39m     \u001b[38;5;28;01mif\u001b[39;00m stop > start:\n\u001b[32m    221\u001b[39m         \u001b[38;5;28;01mreturn\u001b[39;00m start, stop - \u001b[32m1\u001b[39m\n\u001b[32m--> \u001b[39m\u001b[32m222\u001b[39m     \u001b[38;5;28;01mraise\u001b[39;00m \u001b[38;5;167;01mIndexError\u001b[39;00m(\u001b[33m\"\u001b[39m\u001b[33mGridSpec slice would result in no space \u001b[39m\u001b[33m\"\u001b[39m\n\u001b[32m    223\u001b[39m                      \u001b[33m\"\u001b[39m\u001b[33mallocated for subplot\u001b[39m\u001b[33m\"\u001b[39m)\n\u001b[32m    224\u001b[39m \u001b[38;5;28;01melse\u001b[39;00m:\n\u001b[32m    225\u001b[39m     \u001b[38;5;28;01mif\u001b[39;00m key < \u001b[32m0\u001b[39m:\n",
      "\u001b[31mIndexError\u001b[39m: GridSpec slice would result in no space allocated for subplot"
     ]
    }
   ],
   "source": [
    "\n",
    "ax5 = fig.add_subplot(grid[2, :]) # Fraude por Tipo\n",
    "ax6 = fig.add_subplot(grid[3, :]) # Matriz de Correlação\n",
    "ax7 = fig.add_subplot(grid[4, :]) # Estatísticas Descritivas\n",
    "\n",
    "\n",
    "\n",
    "\n",
    "# GRÁFICO 5: Distribuição de Valores\n",
    "\n",
    "# Usar escala log para melhor visualização\n",
    "valores_log = np.log10(df['valor'] + 1)  # +1 para evitar log(0)\n",
    "\n",
    "ax5.hist(valores_log, bins=50, color='lightseagreen', alpha=0.8, edgecolor='black')\n",
    "ax5.set_title('DISTRIBUIÇÃO DOS VALORES (Escala Log)', fontsize=12, fontweight='bold')\n",
    "ax5.set_xlabel('Log10(Valor + 1)', fontsize=10)\n",
    "ax5.set_ylabel('Frequência', fontsize=10)\n",
    "ax5.grid(True, alpha=0.3)\n",
    "\n",
    "# Adicionar estatísticas no gráfico\n",
    "stats_text = f\"\"\"Estatísticas dos Valores:\n",
    "Média: R$ {df['valor'].mean():.2f}\n",
    "Máximo: R$ {df['valor'].max():.2f}\n",
    "Mínimo: R$ {df['valor'].min():.2f}\n",
    "Desvio: R$ {df['valor'].std():.2f}\"\"\"\n",
    "ax5.text(0.02, 0.98, stats_text, transform=ax5.transAxes, fontsize=8, verticalalignment='top', bbox=dict(boxstyle='round', facecolor='wheat', alpha=0.8))\n",
    "\n",
    "\n",
    "# GRÁFICO 6: Matriz de Correlação\n",
    "num_colunas = df.select_dtypes(include=[np.number]).columns\n",
    "correlation_matrix = df[num_colunas].corr()\n",
    "\n",
    "im = ax6.imshow(correlation_matrix, cmap='coolwarm', vmin=-1, vmax=1, aspect='auto')\n",
    "ax6.set_title('MATRIZ DE CORRELAÇÃO ENTRE VARIÁVEIS NUMÉRICAS', fontsize=12, fontweight='bold')\n",
    "ax6.set_xticks(range(len(num_colunas)))\n",
    "ax6.set_yticks(range(len(num_colunas)))\n",
    "ax6.set_xticklabels(num_colunas, rotation=45, ha='right', fontsize=8)\n",
    "ax6.set_yticklabels(num_colunas, fontsize=8)\n",
    "\n",
    "# Adicionar valores na matriz\n",
    "for i in range(len(num_colunas)):\n",
    "    for j in range(len(num_colunas)):\n",
    "        text = ax6.text(j, i, f'{correlation_matrix.iloc[i, j]:.2f}', ha=\"center\", va=\"center\", color=\"black\", fontsize=7, fontweight='bold')\n",
    "\n",
    "# Barra de cores\n",
    "cbar = plt.colorbar(im, ax=ax5, shrink=0.8)\n",
    "cbar.set_label('Coeficiente de Correlação', fontsize=10)\n",
    "\n",
    "# ===== GRÁFICO 6: Estatísticas Descritivas =====\n",
    "ax6.axis('off')  # Desativar eixos\n",
    "\n",
    "# Pegar estatísticas descritivas\n",
    "desc_stats = df.describe().T.round(2)\n",
    "table_data = [['Variável'] + list(desc_stats.columns)] + \\\n",
    "             [[idx] + list(row) for idx, row in desc_stats.iterrows()]\n",
    "\n",
    "# Criar tabela\n",
    "table = ax6.table(cellText=table_data, loc='center', cellLoc='center')\n",
    "table.auto_set_font_size(False)\n",
    "table.set_fontsize(7)\n",
    "table.scale(1.2, 2)\n",
    "\n",
    "ax6.set_title('ESTATÍSTICAS DESCRITIVAS - RESUMO NUMÉRICO', fontsize=12, fontweight='bold', pad=20)\n",
    "\n",
    "# ===== INFO GERAIS =====\n",
    "# Adicionar informações gerais como texto\n",
    "info_text = f\"\"\"INFORMAÇÕES GERAIS:\n",
    "• Total de Transações: {len(df):,}\n",
    "• Transações Normais: {cont_fraude[0]:,} ({proporcao_fraude[0]:.4f}%)\n",
    "• Transações Fraudulentas: {cont_fraude[1]:,} ({proporcao_fraude[1]:.4f}%)\n",
    "• Tipos de Transação: {', '.join(cont_tipo.index.tolist())}\n",
    "• Data de Análise: {pd.Timestamp.now().strftime('%Y-%m-%d %H:%M')}\"\"\"\n",
    "\n",
    "fig.text(0.02, 0.02, info_text, fontsize=9, verticalalignment='bottom',\n",
    "         bbox=dict(boxstyle='round', facecolor='lightgray', alpha=0.8))\n",
    "\n",
    "plt.tight_layout()\n",
    "plt.show()\n"
   ]
  },
  {
   "cell_type": "code",
   "execution_count": null,
   "id": "6c521c65",
   "metadata": {},
   "outputs": [],
   "source": []
  }
 ],
 "metadata": {
  "kernelspec": {
   "display_name": ".venv",
   "language": "python",
   "name": "python3"
  },
  "language_info": {
   "codemirror_mode": {
    "name": "ipython",
    "version": 3
   },
   "file_extension": ".py",
   "mimetype": "text/x-python",
   "name": "python",
   "nbconvert_exporter": "python",
   "pygments_lexer": "ipython3",
   "version": "3.13.5"
  }
 },
 "nbformat": 4,
 "nbformat_minor": 5
}
