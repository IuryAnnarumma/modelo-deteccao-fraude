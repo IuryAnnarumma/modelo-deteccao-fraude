{
 "cells": [
  {
   "cell_type": "markdown",
   "id": "4821e3bf",
   "metadata": {},
   "source": [
    "## Projeto de Modelo de Machine Learning para Detecção de Fraude"
   ]
  },
  {
   "cell_type": "markdown",
   "id": "ddd6b0fc",
   "metadata": {},
   "source": [
    "Para a criação desse modelo, serão utilizados dados da base de dados do Kaggle conhecida como **Fraud Detection Example**. Essa base de dados é uma fração de dados do **PaySim**, um simulador de dados financeiros muito usado para projetos voltados para detecção de fraude."
   ]
  },
  {
   "cell_type": "markdown",
   "id": "a4070b81",
   "metadata": {},
   "source": [
    "### Significado das Colunas"
   ]
  },
  {
   "cell_type": "markdown",
   "id": "cb22f52c",
   "metadata": {},
   "source": [
    "**step** - É uma unidade de tempo no mundo real. A cada \"step\" ou passo, significa 1 hora do tempo real. Ao todo, foram simulados 30 dias.\n",
    "\n",
    "**type** - CASH-IN, CASH-OUT, DEBIT, PAYMENT e TRANSFER.\n",
    "\n",
    "**amount** - Valor da transação em moeda local.\n",
    "\n",
    "**nameOrig** - Cliente que iniciou a transação.\n",
    "\n",
    "**oldbalanceOrg** - Saldo inicial antes da transação.\n",
    "\n",
    "**newbalanceOrig** - Saldo após a transação.\n",
    "\n",
    "**nameDest** - Cliente destinatário da transação.\n",
    "\n",
    "**oldbalanceDest** - Destinatário do saldo inicial antes da transação. Note que não há informações para clientes que começam com M (comerciantes).\n",
    "\n",
    "**newbalanceDest** - Novo destinatário do saldo após a transação. Note que não há informações para clientes que começam com M (comerciantes).\n",
    "\n",
    "**isFraud** - São transações feitas pelos agentes fraudulentos dentro da simulação. Nesse cenário simulado, o comportamento fraudulento dos agentes visa lucrar ao assumir o controle das contas dos clientes e tentar esvaziar os fundos transferindo para outra conta e depois realizando o saque do sistema.\n",
    "\n",
    "**isFlaggedFraud** - O modelo de negócios visa controlar transferências massivas de uma conta para outra e sinaliza tentativas ilegais. Uma tentativa ilegal neste conjunto de dados é uma tentativa de transferir mais de 200.00 em uma única transação."
   ]
  },
  {
   "cell_type": "code",
   "execution_count": null,
   "id": "62e57777",
   "metadata": {},
   "outputs": [],
   "source": []
  }
 ],
 "metadata": {
  "kernelspec": {
   "display_name": ".venv",
   "language": "python",
   "name": "python3"
  },
  "language_info": {
   "name": "python",
   "version": "3.13.5"
  }
 },
 "nbformat": 4,
 "nbformat_minor": 5
}
